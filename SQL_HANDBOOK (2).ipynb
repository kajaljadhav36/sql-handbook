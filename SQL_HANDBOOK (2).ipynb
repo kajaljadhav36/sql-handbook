{
  "nbformat": 4,
  "nbformat_minor": 0,
  "metadata": {
    "colab": {
      "provenance": []
    },
    "kernelspec": {
      "name": "python3",
      "display_name": "Python 3"
    },
    "language_info": {
      "name": "python"
    }
  },
  "cells": [
    {
      "cell_type": "markdown",
      "source": [
        "DDL commands \\\n",
        "- Create  \\\n",
        "-Drop \\\n",
        "-Alter\\ \n",
        "-Truncate \\\n",
        "-Rename \\\n",
        "\n",
        "DML Commands \\\n",
        "-Select \\ \n",
        "-Where\\\n",
        "-Group By\\\n",
        "-Having\\\n",
        "-Order by\\\n",
        "-Random\\\n",
        "-Unique\\\n",
        "-Distinct\\\n",
        "-count\\\n",
        "-In\\\n",
        "-And\\\n",
        "-Or\\\n",
        "-With\\\n",
        "-As\\\n",
        "-Insert\\\n",
        "-Update\\\n",
        "-Delete\\\n",
        "-Truncate\\\n",
        "-Create and Delete View\\\n",
        "-Join\n",
        "-Window Function\n",
        "1 Aggregate Window Function"
      ],
      "metadata": {
        "id": "y9zld8feiBuh"
      }
    },
    {
      "cell_type": "markdown",
      "source": [
        "DDL command \\\n",
        "Create Database, Table "
      ],
      "metadata": {
        "id": "Jat3xH3MQF-K"
      }
    },
    {
      "cell_type": "code",
      "source": [
        "CREATE DATABASE Database_Name; "
      ],
      "metadata": {
        "id": "wEVpiYT3VOAJ"
      },
      "execution_count": null,
      "outputs": []
    },
    {
      "cell_type": "code",
      "execution_count": null,
      "metadata": {
        "id": "tyy05-tZQATR"
      },
      "outputs": [],
      "source": [
        "CREATE TABLE Table_name(\n",
        "     column_name1 INT NOT NULL AUTO_INCREMENT PRIMARY KEY ,\n",
        "     column_name2 VARCHAR( 25 ) NOT NULL ,\n",
        "     column_name3 VARCHAR( 25 ) NOT NULL ,\n",
        "     column_name4 INT NOT NULL \n",
        "     )"
      ]
    },
    {
      "cell_type": "markdown",
      "source": [
        "Drop"
      ],
      "metadata": {
        "id": "WC2uF_ODTop9"
      }
    },
    {
      "cell_type": "code",
      "source": [
        "DROP DATABASE Database_Name; "
      ],
      "metadata": {
        "id": "YH8yrHgbVSbw"
      },
      "execution_count": null,
      "outputs": []
    },
    {
      "cell_type": "code",
      "source": [
        "DROP TABLE  Database_Name; "
      ],
      "metadata": {
        "id": "pHYOO-lmVUkO"
      },
      "execution_count": null,
      "outputs": []
    },
    {
      "cell_type": "markdown",
      "source": [
        "Alter"
      ],
      "metadata": {
        "id": "Pn4zd9mfXghW"
      }
    },
    {
      "cell_type": "code",
      "source": [
        "ALTER TABLE Table_name ADD column_name column_definition;    # column_definition = int, varchar , etc"
      ],
      "metadata": {
        "id": "Q57U5VsXXhWy"
      },
      "execution_count": null,
      "outputs": []
    },
    {
      "cell_type": "code",
      "source": [
        "ALTER TABLE Table_name DROP Column_Name_1 , column_Name_2 , ….., column_Name_N;  "
      ],
      "metadata": {
        "id": "NKk2pUuPXn25"
      },
      "execution_count": null,
      "outputs": []
    },
    {
      "cell_type": "code",
      "source": [
        "ALTER TABLE table_name MODIFY ( column_name column_datatype(size));  "
      ],
      "metadata": {
        "id": "Uw87kJAWX2_i"
      },
      "execution_count": null,
      "outputs": []
    },
    {
      "cell_type": "markdown",
      "source": [
        "Truncate"
      ],
      "metadata": {
        "id": "-6if0qbKY5VQ"
      }
    },
    {
      "cell_type": "code",
      "source": [
        "TRUNCATE TABLE Table_Name;  "
      ],
      "metadata": {
        "id": "v28LlMYjY6dG"
      },
      "execution_count": null,
      "outputs": []
    },
    {
      "cell_type": "markdown",
      "source": [
        "Rename"
      ],
      "metadata": {
        "id": "50ya9OFxZMSe"
      }
    },
    {
      "cell_type": "code",
      "source": [
        "RENAME TABLE Old_Table_Name TO New_Table_Name;  "
      ],
      "metadata": {
        "id": "q68ut0ovZNKJ"
      },
      "execution_count": null,
      "outputs": []
    },
    {
      "cell_type": "markdown",
      "source": [
        "DML commands \\\n",
        "Select "
      ],
      "metadata": {
        "id": "5I_K50T-ZPsx"
      }
    },
    {
      "cell_type": "code",
      "source": [
        "SELECT COLUMN_NAME FROM TABLE_NAME;"
      ],
      "metadata": {
        "id": "hGVSoZV-ZTc6"
      },
      "execution_count": null,
      "outputs": []
    },
    {
      "cell_type": "markdown",
      "source": [
        "Where"
      ],
      "metadata": {
        "id": "HvtNyEGEVg34"
      }
    },
    {
      "cell_type": "code",
      "source": [
        "SELECT Column_name FROM Table_name WHERE (CONDITION);   #select with where condition"
      ],
      "metadata": {
        "id": "8BGFJFucjsQb"
      },
      "execution_count": null,
      "outputs": []
    },
    {
      "cell_type": "markdown",
      "source": [
        "Group By"
      ],
      "metadata": {
        "id": "zuXwiNSboeEE"
      }
    },
    {
      "cell_type": "code",
      "source": [
        "SELECT column_Name_1, column_Name_2, ..... \n",
        "aggregate_function_name(column_Name2) \n",
        "FROM table_name GROUP BY column_Name1;   #SELECT Statement with GROUP BY clause"
      ],
      "metadata": {
        "id": "pQHwaSjjkCPY"
      },
      "execution_count": null,
      "outputs": []
    },
    {
      "cell_type": "markdown",
      "source": [
        "Having"
      ],
      "metadata": {
        "id": "_VZBeIlSoinG"
      }
    },
    {
      "cell_type": "code",
      "source": [
        "SELECT column_Name_1, column_Name_2, .....\n",
        "aggregate_function_name(column_Name_2) \n",
        "FROM table_name GROUP BY column_Name1 HAVING (CONDITION);  #SELECT Statement with HAVING clause"
      ],
      "metadata": {
        "id": "J38THGWvkU7n"
      },
      "execution_count": null,
      "outputs": []
    },
    {
      "cell_type": "markdown",
      "source": [
        "Order By"
      ],
      "metadata": {
        "id": "0ZXyEGxPomh5"
      }
    },
    {
      "cell_type": "code",
      "source": [
        "SELECT Column_Name_1, Column_Name_2, ....., column_Name_N \n",
        "FROM table_name \n",
        "WHERE [Condition] \n",
        "ORDER BY[column_Name_1, column_Name_2, ....., column_Name_N asc | desc ];  #By default ascending "
      ],
      "metadata": {
        "id": "XDmutfsylAfB"
      },
      "execution_count": null,
      "outputs": []
    },
    {
      "cell_type": "markdown",
      "source": [
        "Random using order by"
      ],
      "metadata": {
        "id": "n8cxaa7eZzop"
      }
    },
    {
      "cell_type": "code",
      "source": [
        "SELECT column FROM table ORDER BY RAND () LIMIT 1; #mysql\n",
        "SELECT column FROM table ORDER BY RANDOM () LIMIT 1;  #postgre sql\n",
        "SELECT TOP 1 column FROM table ORDER BY NEWID ();   # sql server"
      ],
      "metadata": {
        "id": "Ol8a2GcKZ3vg"
      },
      "execution_count": null,
      "outputs": []
    },
    {
      "cell_type": "markdown",
      "source": [
        "Unique"
      ],
      "metadata": {
        "id": "WCj1RlhGoro7"
      }
    },
    {
      "cell_type": "code",
      "source": [
        "SELECT UNIQUE column_name  \n",
        "FROM table_name;  "
      ],
      "metadata": {
        "id": "8QGu0829ouzy"
      },
      "execution_count": null,
      "outputs": []
    },
    {
      "cell_type": "markdown",
      "source": [
        "Distinct"
      ],
      "metadata": {
        "id": "SMqGavwSTaTs"
      }
    },
    {
      "cell_type": "code",
      "source": [
        "SELECT DISTINCT column_name  \n",
        "FROM table_name; "
      ],
      "metadata": {
        "id": "y1kZQks4TbbT"
      },
      "execution_count": null,
      "outputs": []
    },
    {
      "cell_type": "markdown",
      "source": [
        "Count"
      ],
      "metadata": {
        "id": "lxu4QpLuTlI0"
      }
    },
    {
      "cell_type": "code",
      "source": [
        "SELECT COUNT(column_name) FROM table_name;\n",
        "\n",
        "SELECT COUNT(column_name) FROM table_name WHERE [condition];  "
      ],
      "metadata": {
        "id": "IqWlzvQYTmhK"
      },
      "execution_count": null,
      "outputs": []
    },
    {
      "cell_type": "markdown",
      "source": [
        "In "
      ],
      "metadata": {
        "id": "rnJ5IqSFTnvB"
      }
    },
    {
      "cell_type": "code",
      "source": [
        "SELECT *  \n",
        "FROM Table_name  \n",
        "WHERE column_name IN ( rows)  "
      ],
      "metadata": {
        "id": "s8eCpEDOUp5T"
      },
      "execution_count": null,
      "outputs": []
    },
    {
      "cell_type": "markdown",
      "source": [
        "And"
      ],
      "metadata": {
        "id": "ei-1YXn-UzkS"
      }
    },
    {
      "cell_type": "code",
      "source": [
        "SELECT Column_name FROM Table_name WHERE condition1 AND condition2;  "
      ],
      "metadata": {
        "id": "3jEPc0FmV60K"
      },
      "execution_count": null,
      "outputs": []
    },
    {
      "cell_type": "markdown",
      "source": [
        "Or"
      ],
      "metadata": {
        "id": "64fBOX17W0xX"
      }
    },
    {
      "cell_type": "code",
      "source": [
        "SELECT Column_name FROM Table_name WHERE condition1 OR condition2;  "
      ],
      "metadata": {
        "id": "gFCYcq3-W1Ym"
      },
      "execution_count": null,
      "outputs": []
    },
    {
      "cell_type": "markdown",
      "source": [
        "With"
      ],
      "metadata": {
        "id": "Fogz3fcKXYRo"
      }
    },
    {
      "cell_type": "code",
      "source": [
        "WITH <alias_name> AS (sql_sub-query_statement)  \n",
        "SELECT column_list FROM <alias_name> [table name]  \n",
        "[WHERE <join_condition>]              "
      ],
      "metadata": {
        "id": "vzwGjtSCXZBR"
      },
      "execution_count": null,
      "outputs": []
    },
    {
      "cell_type": "markdown",
      "source": [
        "As"
      ],
      "metadata": {
        "id": "tgn4Jmp8X3Lk"
      }
    },
    {
      "cell_type": "code",
      "source": [
        "select Column_name as new_column_name from Table_name"
      ],
      "metadata": {
        "id": "67LSkJhwX351"
      },
      "execution_count": null,
      "outputs": []
    },
    {
      "cell_type": "markdown",
      "source": [
        "Insert"
      ],
      "metadata": {
        "id": "IjDdUgeJak-5"
      }
    },
    {
      "cell_type": "code",
      "source": [
        "INSERT INTO table_name  \n",
        "VALUES (value1, value2, value3....);  "
      ],
      "metadata": {
        "id": "SG98IHOeal8I"
      },
      "execution_count": null,
      "outputs": []
    },
    {
      "cell_type": "markdown",
      "source": [
        "Update"
      ],
      "metadata": {
        "id": "tIj6BiP7a6F5"
      }
    },
    {
      "cell_type": "code",
      "source": [
        "UPDATE table_name  \n",
        "SET column_name = expression  \n",
        "WHERE conditions \n"
      ],
      "metadata": {
        "id": "U4oAE2CEa6_I"
      },
      "execution_count": null,
      "outputs": []
    },
    {
      "cell_type": "code",
      "source": [
        "UPDATE Table1  \n",
        "INNER JOIN  \n",
        "table2  \n",
        "ON table1.columnname = table1.columnname  \n",
        "SET table1.columnname = table1.columnname  #update using join "
      ],
      "metadata": {
        "id": "A-22lxYJbMak"
      },
      "execution_count": null,
      "outputs": []
    },
    {
      "cell_type": "markdown",
      "source": [
        "Delete"
      ],
      "metadata": {
        "id": "vDLw8IyPchu_"
      }
    },
    {
      "cell_type": "code",
      "source": [
        "DELETE FROM table_name [WHERE condition]; #When you use the drop statement it deletes the table's row together \n",
        "                                          #with the table's definition so all the relationships of that table with other tables will no longer be valid.\n",
        "\n",
        "DELETE FROM STUDENT_NAME;   # it will delete all rows from table\n",
        "\n",
        "\n",
        "DELETE [target table]  \n",
        "FROM [table1]  \n",
        "INNER JOIN [table2]  \n",
        "ON [table1.[joining column] = [table2].[joining column]  \n",
        "WHERE [condition]                                        # it will delete join "
      ],
      "metadata": {
        "id": "2snB8JXNckfQ"
      },
      "execution_count": null,
      "outputs": []
    },
    {
      "cell_type": "markdown",
      "source": [
        "Truncate"
      ],
      "metadata": {
        "id": "6r4pNagadDZf"
      }
    },
    {
      "cell_type": "code",
      "source": [
        "TRUNCATE TABLE Table_name; #the table structure remains the same"
      ],
      "metadata": {
        "id": "CUWElQHmdEbY"
      },
      "execution_count": null,
      "outputs": []
    },
    {
      "cell_type": "markdown",
      "source": [
        "Create and delete view"
      ],
      "metadata": {
        "id": "P_pzC7_7e9Fy"
      }
    },
    {
      "cell_type": "code",
      "source": [
        "CREATE VIEW view_name AS   \n",
        "SELECT columns  \n",
        "FROM tables  \n",
        "WHERE conditions;                 # create view\n",
        "\n",
        "\n",
        "DROP VIEW view_name               #delete view"
      ],
      "metadata": {
        "id": "XFZXjhfHe_Zs"
      },
      "execution_count": null,
      "outputs": []
    },
    {
      "cell_type": "markdown",
      "source": [
        "Join"
      ],
      "metadata": {
        "id": "V46eKRdJg7eL"
      }
    },
    {
      "cell_type": "code",
      "source": [
        "SELECT table1.column1, table2.column2....  \n",
        "FROM table1   \n",
        "LEFT JOIN table2  \n",
        "ON table1.column_field = table2.column_field;  # left join\n"
      ],
      "metadata": {
        "id": "mkO19QfTg8Ux"
      },
      "execution_count": null,
      "outputs": []
    },
    {
      "cell_type": "code",
      "source": [
        "\n",
        "SELECT table1.column1, table2.column2....  \n",
        "FROM table1   \n",
        "LEFT JOIN table2  \n",
        "ON table1.column_field = table2.column_field;  # Right join"
      ],
      "metadata": {
        "id": "VN1ZUJJUhLjg"
      },
      "execution_count": null,
      "outputs": []
    },
    {
      "cell_type": "code",
      "source": [
        "\n",
        "SELECT table1.column1, table2.column2....  \n",
        "FROM table1   \n",
        "LEFT JOIN table2  \n",
        "ON table1.column_field = table2.column_field;  # Full join"
      ],
      "metadata": {
        "id": "b-o5N9aehdRH"
      },
      "execution_count": null,
      "outputs": []
    },
    {
      "cell_type": "code",
      "source": [
        "SELECT * FROM table1 CROSS JOIN table2;  #cross join"
      ],
      "metadata": {
        "id": "q6AItxoVh07y"
      },
      "execution_count": null,
      "outputs": []
    },
    {
      "cell_type": "markdown",
      "source": [
        "Window Functions \\\n",
        "Aggregate Window Function"
      ],
      "metadata": {
        "id": "nWEn_rkorSvd"
      }
    },
    {
      "cell_type": "code",
      "source": [
        "SELECT Column_names\n",
        " Window_function(column_name) OVER( PARTITION BY column_name ORDER BY column_name) AS new_col_name\n",
        " FROM Table_name                          #window_function =  SUM(), COUNT(), AVERAGE(), MAX(), MIN()"
      ],
      "metadata": {
        "id": "mg5I8EnCrXDl"
      },
      "execution_count": null,
      "outputs": []
    },
    {
      "cell_type": "markdown",
      "source": [
        "Ranking Window Functions"
      ],
      "metadata": {
        "id": "JIx_F1cMs8ZB"
      }
    },
    {
      "cell_type": "code",
      "source": [
        "SELECT \n",
        "ROW_NUMBER() OVER (PARTITION BY col_name ORDER BY col_name DESC) \n",
        "AS new_col_name, other_col_names, \n",
        "RANK() OVER(PARTITION BY col_name \n",
        "ORDER BY col_name DESC) AS new_col_name,\n",
        "DENSE_RANK() OVER(PARTITION BY col_name \n",
        "                  ORDER BY col_name DESC) \n",
        "                  AS new_col_name,\n",
        "FROM Table_name "
      ],
      "metadata": {
        "id": "R-d4iEvus3sO"
      },
      "execution_count": null,
      "outputs": []
    }
  ]
}